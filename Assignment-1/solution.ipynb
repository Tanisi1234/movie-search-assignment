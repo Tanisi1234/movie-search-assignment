{
 "cells": [
  {
   "cell_type": "code",
   "execution_count": 1,
   "id": "19fded0a",
   "metadata": {},
   "outputs": [
    {
     "name": "stderr",
     "output_type": "stream",
     "text": [
      "C:\\Users\\ankit\\AI-Systems-Development--IIIT-Naya-Raipur\\venv\\Lib\\site-packages\\tqdm\\auto.py:21: TqdmWarning: IProgress not found. Please update jupyter and ipywidgets. See https://ipywidgets.readthedocs.io/en/stable/user_install.html\n",
      "  from .autonotebook import tqdm as notebook_tqdm\n"
     ]
    }
   ],
   "source": [
    "# (a) IMPORTS  — sentence-transformers, pandas, scikit-learn (plus numpy)\n",
    "import pandas as pd\n",
    "import numpy as np\n",
    "\n",
    "# SentenceTransformers for MiniLM model + cosine sim helper\n",
    "from sentence_transformers import SentenceTransformer, util\n",
    "\n",
    "# We’ll also import scikit-learn as requested (we'll show both cosine paths)\n",
    "from sklearn.metrics.pairwise import cosine_similarity\n"
   ]
  },
  {
   "cell_type": "code",
   "execution_count": 5,
   "id": "2e8d756c",
   "metadata": {},
   "outputs": [
    {
     "name": "stderr",
     "output_type": "stream",
     "text": [
      "<>:2: SyntaxWarning: invalid escape sequence '\\m'\n",
      "<>:2: SyntaxWarning: invalid escape sequence '\\m'\n",
      "C:\\Users\\ankit\\AppData\\Local\\Temp\\ipykernel_9104\\1637886309.py:2: SyntaxWarning: invalid escape sequence '\\m'\n",
      "  csv_path = \"Assignment-1\\movies.csv\"  # change if your CSV is elsewhere\n"
     ]
    },
    {
     "data": {
      "text/html": [
       "<div>\n",
       "<style scoped>\n",
       "    .dataframe tbody tr th:only-of-type {\n",
       "        vertical-align: middle;\n",
       "    }\n",
       "\n",
       "    .dataframe tbody tr th {\n",
       "        vertical-align: top;\n",
       "    }\n",
       "\n",
       "    .dataframe thead th {\n",
       "        text-align: right;\n",
       "    }\n",
       "</style>\n",
       "<table border=\"1\" class=\"dataframe\">\n",
       "  <thead>\n",
       "    <tr style=\"text-align: right;\">\n",
       "      <th></th>\n",
       "      <th>title</th>\n",
       "      <th>plot</th>\n",
       "    </tr>\n",
       "  </thead>\n",
       "  <tbody>\n",
       "    <tr>\n",
       "      <th>0</th>\n",
       "      <td>Spy Movie</td>\n",
       "      <td>A spy navigates intrigue in Paris to stop a te...</td>\n",
       "    </tr>\n",
       "    <tr>\n",
       "      <th>1</th>\n",
       "      <td>Romance in Paris</td>\n",
       "      <td>A couple falls in love in Paris under romantic...</td>\n",
       "    </tr>\n",
       "    <tr>\n",
       "      <th>2</th>\n",
       "      <td>Action Flick</td>\n",
       "      <td>A high-octane chase through New York with expl...</td>\n",
       "    </tr>\n",
       "  </tbody>\n",
       "</table>\n",
       "</div>"
      ],
      "text/plain": [
       "              title                                               plot\n",
       "0         Spy Movie  A spy navigates intrigue in Paris to stop a te...\n",
       "1  Romance in Paris  A couple falls in love in Paris under romantic...\n",
       "2      Action Flick  A high-octane chase through New York with expl..."
      ]
     },
     "execution_count": 5,
     "metadata": {},
     "output_type": "execute_result"
    }
   ],
   "source": [
    "# (b) LOAD DATA — expects columns: 'title' and 'plot'\n",
    "csv_path = \"Assignment-1\\movies.csv\"  # change if your CSV is elsewhere\n",
    "\n",
    "df = pd.read_csv(csv_path)\n",
    "\n",
    "# Basic sanity checks / normalization\n",
    "# Ensure required columns exist (case-insensitive rename if needed)\n",
    "lower_map = {c.lower(): c for c in df.columns}\n",
    "if \"title\" in lower_map and \"plot\" in lower_map:\n",
    "    df = df.rename(columns={lower_map[\"title\"]: \"title\", lower_map[\"plot\"]: \"plot\"})\n",
    "else:\n",
    "    raise ValueError(\"CSV must contain 'title' and 'plot' columns.\")\n",
    "\n",
    "# Ensure string dtype\n",
    "df[\"title\"] = df[\"title\"].astype(str)\n",
    "df[\"plot\"]  = df[\"plot\"].astype(str)\n",
    "\n",
    "# Peek\n",
    "df.head()\n"
   ]
  },
  {
   "cell_type": "code",
   "execution_count": 6,
   "id": "101f014a",
   "metadata": {},
   "outputs": [
    {
     "name": "stderr",
     "output_type": "stream",
     "text": [
      "Xet Storage is enabled for this repo, but the 'hf_xet' package is not installed. Falling back to regular HTTP download. For better performance, install the package with: `pip install huggingface_hub[hf_xet]` or `pip install hf_xet`\n"
     ]
    },
    {
     "name": "stdout",
     "output_type": "stream",
     "text": [
      "Embeddings shape: (3, 384)\n"
     ]
    }
   ],
   "source": [
    "# (c) EMBEDDINGS — create normalized embeddings for plots using MiniLM\n",
    "MODEL_NAME = \"sentence-transformers/all-MiniLM-L6-v2\"\n",
    "model = SentenceTransformer(MODEL_NAME)\n",
    "\n",
    "# Convert plots to a list of strings\n",
    "plots = df[\"plot\"].tolist()\n",
    "\n",
    "# Encode: convert_to_numpy=True returns a NumPy array\n",
    "# normalize_embeddings=True L2-normalizes vectors (cosine sim = dot product)\n",
    "embeddings = model.encode(\n",
    "    plots,\n",
    "    convert_to_numpy=True,\n",
    "    normalize_embeddings=True\n",
    ")\n",
    "\n",
    "print(\"Embeddings shape:\", embeddings.shape)  # (num_movies, 384)\n"
   ]
  },
  {
   "cell_type": "code",
   "execution_count": 7,
   "id": "5cf16af6",
   "metadata": {},
   "outputs": [],
   "source": [
    "def search_movies(query: str, top_n: int = 5,\n",
    "                  use_sklearn: bool = False) -> pd.DataFrame:\n",
    "    \"\"\"\n",
    "    Given a text query, return the top_n most relevant movies based on\n",
    "    cosine similarity to plot embeddings.\n",
    "\n",
    "    Parameters\n",
    "    ----------\n",
    "    query : str\n",
    "        Your search text, e.g., 'spy thriller in Paris'\n",
    "    top_n : int\n",
    "        Number of results to return (sorted by similarity desc)\n",
    "    use_sklearn : bool\n",
    "        If True, compute cosine similarity with scikit-learn.\n",
    "        If False (default), use sentence-transformers' util.cos_sim.\n",
    "\n",
    "    Returns\n",
    "    -------\n",
    "    pd.DataFrame with columns ['title', 'plot', 'similarity']\n",
    "    \"\"\"\n",
    "    # 1) Encode and normalize the query\n",
    "    q_emb = model.encode(\n",
    "        [query],\n",
    "        convert_to_numpy=True,\n",
    "        normalize_embeddings=True\n",
    "    )  # shape: (1, dim)\n",
    "\n",
    "    # 2) Compute cosine similarity (two equivalent ways)\n",
    "    if use_sklearn:\n",
    "        # cosine_similarity expects 2D arrays; returns shape (1, N)\n",
    "        sims = cosine_similarity(q_emb, embeddings)[0]\n",
    "    else:\n",
    "        # util.cos_sim supports NumPy arrays too; returns (1, N)\n",
    "        sims = util.cos_sim(q_emb, embeddings).cpu().numpy().flatten()\n",
    "\n",
    "    # 3) Grab top_n indices efficiently, then sort them by similarity desc\n",
    "    top_n = max(0, min(top_n, len(sims)))\n",
    "    if top_n == 0:\n",
    "        return pd.DataFrame(columns=[\"title\", \"plot\", \"similarity\"])\n",
    "\n",
    "    idx = np.argpartition(-sims, top_n - 1)[:top_n]      # unsorted top_k\n",
    "    idx = idx[np.argsort(-sims[idx])]                    # sort those top_k\n",
    "\n",
    "    # 4) Build the result DataFrame\n",
    "    out = df.iloc[idx].copy().reset_index(drop=True)\n",
    "    out[\"similarity\"] = sims[idx].astype(float)\n",
    "    return out[[\"title\", \"plot\", \"similarity\"]]\n"
   ]
  },
  {
   "cell_type": "code",
   "execution_count": 8,
   "id": "c6af5f0c",
   "metadata": {},
   "outputs": [
    {
     "data": {
      "text/html": [
       "<div>\n",
       "<style scoped>\n",
       "    .dataframe tbody tr th:only-of-type {\n",
       "        vertical-align: middle;\n",
       "    }\n",
       "\n",
       "    .dataframe tbody tr th {\n",
       "        vertical-align: top;\n",
       "    }\n",
       "\n",
       "    .dataframe thead th {\n",
       "        text-align: right;\n",
       "    }\n",
       "</style>\n",
       "<table border=\"1\" class=\"dataframe\">\n",
       "  <thead>\n",
       "    <tr style=\"text-align: right;\">\n",
       "      <th></th>\n",
       "      <th>title</th>\n",
       "      <th>plot</th>\n",
       "      <th>similarity</th>\n",
       "    </tr>\n",
       "  </thead>\n",
       "  <tbody>\n",
       "    <tr>\n",
       "      <th>0</th>\n",
       "      <td>Spy Movie</td>\n",
       "      <td>A spy navigates intrigue in Paris to stop a te...</td>\n",
       "      <td>0.769684</td>\n",
       "    </tr>\n",
       "    <tr>\n",
       "      <th>1</th>\n",
       "      <td>Romance in Paris</td>\n",
       "      <td>A couple falls in love in Paris under romantic...</td>\n",
       "      <td>0.388029</td>\n",
       "    </tr>\n",
       "    <tr>\n",
       "      <th>2</th>\n",
       "      <td>Action Flick</td>\n",
       "      <td>A high-octane chase through New York with expl...</td>\n",
       "      <td>0.256777</td>\n",
       "    </tr>\n",
       "  </tbody>\n",
       "</table>\n",
       "</div>"
      ],
      "text/plain": [
       "              title                                               plot  \\\n",
       "0         Spy Movie  A spy navigates intrigue in Paris to stop a te...   \n",
       "1  Romance in Paris  A couple falls in love in Paris under romantic...   \n",
       "2      Action Flick  A high-octane chase through New York with expl...   \n",
       "\n",
       "   similarity  \n",
       "0    0.769684  \n",
       "1    0.388029  \n",
       "2    0.256777  "
      ]
     },
     "execution_count": 8,
     "metadata": {},
     "output_type": "execute_result"
    }
   ],
   "source": [
    "results = search_movies(\"spy thriller in Paris\", top_n=5)\n",
    "results\n"
   ]
  },
  {
   "cell_type": "code",
   "execution_count": 9,
   "id": "5a891d6e",
   "metadata": {},
   "outputs": [
    {
     "data": {
      "text/html": [
       "<div>\n",
       "<style scoped>\n",
       "    .dataframe tbody tr th:only-of-type {\n",
       "        vertical-align: middle;\n",
       "    }\n",
       "\n",
       "    .dataframe tbody tr th {\n",
       "        vertical-align: top;\n",
       "    }\n",
       "\n",
       "    .dataframe thead th {\n",
       "        text-align: right;\n",
       "    }\n",
       "</style>\n",
       "<table border=\"1\" class=\"dataframe\">\n",
       "  <thead>\n",
       "    <tr style=\"text-align: right;\">\n",
       "      <th></th>\n",
       "      <th>title</th>\n",
       "      <th>plot</th>\n",
       "      <th>similarity</th>\n",
       "    </tr>\n",
       "  </thead>\n",
       "  <tbody>\n",
       "    <tr>\n",
       "      <th>0</th>\n",
       "      <td>Spy Movie</td>\n",
       "      <td>A spy navigates intrigue in Paris to stop a te...</td>\n",
       "      <td>0.769684</td>\n",
       "    </tr>\n",
       "    <tr>\n",
       "      <th>1</th>\n",
       "      <td>Romance in Paris</td>\n",
       "      <td>A couple falls in love in Paris under romantic...</td>\n",
       "      <td>0.388029</td>\n",
       "    </tr>\n",
       "    <tr>\n",
       "      <th>2</th>\n",
       "      <td>Action Flick</td>\n",
       "      <td>A high-octane chase through New York with expl...</td>\n",
       "      <td>0.256777</td>\n",
       "    </tr>\n",
       "  </tbody>\n",
       "</table>\n",
       "</div>"
      ],
      "text/plain": [
       "              title                                               plot  \\\n",
       "0         Spy Movie  A spy navigates intrigue in Paris to stop a te...   \n",
       "1  Romance in Paris  A couple falls in love in Paris under romantic...   \n",
       "2      Action Flick  A high-octane chase through New York with expl...   \n",
       "\n",
       "   similarity  \n",
       "0    0.769684  \n",
       "1    0.388029  \n",
       "2    0.256777  "
      ]
     },
     "execution_count": 9,
     "metadata": {},
     "output_type": "execute_result"
    }
   ],
   "source": [
    "results_sklearn = search_movies(\"spy thriller in Paris\", top_n=5, use_sklearn=True)\n",
    "results_sklearn\n"
   ]
  }
 ],
 "metadata": {
  "kernelspec": {
   "display_name": "Python 3 (ipykernel)",
   "language": "python",
   "name": "python3"
  },
  "language_info": {
   "codemirror_mode": {
    "name": "ipython",
    "version": 3
   },
   "file_extension": ".py",
   "mimetype": "text/x-python",
   "name": "python",
   "nbconvert_exporter": "python",
   "pygments_lexer": "ipython3",
   "version": "3.13.5"
  }
 },
 "nbformat": 4,
 "nbformat_minor": 5
}
